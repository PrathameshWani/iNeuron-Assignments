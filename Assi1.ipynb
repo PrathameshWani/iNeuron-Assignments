{
 "cells": [
  {
   "cell_type": "markdown",
   "id": "d01f918f",
   "metadata": {},
   "source": [
    "Q1. \n",
    "Ans- \n",
    "* is a operator not expression\n",
    "'hello' is a value not expression\n",
    "-87.8 is value not expression\n",
    "- , / , + are operator not expression\n",
    "6 is a value not expression"
   ]
  },
  {
   "cell_type": "markdown",
   "id": "8aece384",
   "metadata": {},
   "source": [
    "Q2.\n",
    "Ans-\n",
    "String:\n",
    "a. String is a one of the data type in python.\n",
    "b. In python there is no data type named as 'Char', if we need to take value of char then this will be string with length 1.\n",
    "c. We can assign string value to any variable in python using single(''), double(\"\"), and triple quotes('''''').\n",
    "\n",
    "Variable:\n",
    "a. Variable is one kind of temparary space where we can store the value and can use this value further in code.\n",
    "b. In variable we can store multiple type of data. like String values, integer values, float values.\n",
    "    simply using assignment operator.\n",
    "b. We can use type() function to get to know which kind of data is dtored in this varible.\n",
    "\n"
   ]
  },
  {
   "cell_type": "markdown",
   "id": "a6070c26",
   "metadata": {},
   "source": [
    "Q3.\n",
    "Ans-\n",
    "Data Types:\n",
    "    1. String:\n",
    "        a.String is built in data type in python which used to store text value in it.\n",
    "        b.We can assign string value to any variable in python using single(''), double(\"\"), and triple quotes('''''').\n",
    "    2.Integer:\n",
    "        a.Integer is built in data type in python which used to store integer value in it.\n",
    "        b.It contain positive or negative numbers.\n",
    "        c.There is no limit to store integer value.\n",
    "    3.Float:\n",
    "        a.Float is built in data type in python which used to store floatting value in it.'\n",
    "        b.It is a real number with having floating number in it.\n",
    "        \n",
    "    "
   ]
  },
  {
   "cell_type": "markdown",
   "id": "f188b6f5",
   "metadata": {},
   "source": [
    "Q4.\n",
    "Ans-\n",
    "\n",
    "Expressions are made up of operands and operators.\n",
    "Operands are the something on which operator acts upon.\n",
    "\n",
    "Ex. a + b\n",
    "In above expression a and b are operands.\n",
    "and + is the operator.\n"
   ]
  },
  {
   "cell_type": "markdown",
   "id": "a82614bc",
   "metadata": {},
   "source": [
    "Q5.\n",
    "Ans-\n",
    "\n",
    "Statement:\n",
    "    statement are instructions to the python interpretor to execute line.\n",
    "    Python programs are made up of statements.\n",
    "    So, anything write in python is an statement.\n",
    "\n",
    "Expression:\n",
    "    Expressions are made up of two things, OPerands and operators.\n",
    "    Like a+b.\n",
    "    Without operands and operator there is no expression.\n",
    "    \n"
   ]
  },
  {
   "cell_type": "markdown",
   "id": "70c50086",
   "metadata": {},
   "source": [
    "Q6.\n",
    "Ans-\n",
    " Output will be 22.\n",
    "    "
   ]
  },
  {
   "cell_type": "markdown",
   "id": "e5a5f392",
   "metadata": {},
   "source": [
    "Q7.\n",
    "Ans-\n",
    "    1. 'spamspamspam'\n",
    "    2. 'spamspamspam'\n"
   ]
  },
  {
   "cell_type": "markdown",
   "id": "ff777bc5",
   "metadata": {},
   "source": [
    "Q8.\n",
    "Ans-\n",
    "There is some rule are already defined by Python developers where its says,\n",
    "Python varible name should start with character not with integer \n",
    "hence eggs is valid and 100 is invalid."
   ]
  },
  {
   "cell_type": "markdown",
   "id": "8a8b5330",
   "metadata": {},
   "source": [
    "Q9.\n",
    "Ans-\n",
    " int() , float() , and str( )"
   ]
  },
  {
   "cell_type": "code",
   "execution_count": null,
   "id": "956f8d14",
   "metadata": {},
   "outputs": [],
   "source": [
    "Q10.\n",
    "Ans-\n",
    "\n",
    "'I have eaten ' + 99 + ' burritos.'\n",
    "\n",
    "In above statement, there is concatination operator used.\n",
    "Concatination operator generally used to concat two string.\n",
    "But in above statement we rying to concat int value with string value .\n",
    "Hence, it will show error while executing."
   ]
  }
 ],
 "metadata": {
  "kernelspec": {
   "display_name": "Python 3 (ipykernel)",
   "language": "python",
   "name": "python3"
  },
  "language_info": {
   "codemirror_mode": {
    "name": "ipython",
    "version": 3
   },
   "file_extension": ".py",
   "mimetype": "text/x-python",
   "name": "python",
   "nbconvert_exporter": "python",
   "pygments_lexer": "ipython3",
   "version": "3.9.7"
  }
 },
 "nbformat": 4,
 "nbformat_minor": 5
}
